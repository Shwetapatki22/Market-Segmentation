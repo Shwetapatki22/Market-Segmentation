{
 "cells": [
  {
   "cell_type": "code",
   "execution_count": 1,
   "id": "1d31839b",
   "metadata": {},
   "outputs": [
    {
     "name": "stdout",
     "output_type": "stream",
     "text": [
      "Index(['yummy', 'convenient', 'spicy', 'fattening', 'greasy', 'fast', 'cheap',\n",
      "       'tasty', 'expensive', 'healthy', 'disgusting', 'Like', 'Age',\n",
      "       'VisitFrequency', 'Gender'],\n",
      "      dtype='object')\n",
      "(3, 15)\n",
      "  yummy convenient spicy fattening greasy fast cheap tasty expensive healthy  \\\n",
      "0    No        Yes    No       Yes     No  Yes   Yes    No       Yes      No   \n",
      "1   Yes        Yes    No       Yes    Yes  Yes   Yes   Yes       Yes      No   \n",
      "2    No        Yes   Yes       Yes    Yes  Yes    No   Yes       Yes     Yes   \n",
      "\n",
      "  disgusting  Like  Age      VisitFrequency  Gender  \n",
      "0         No    -3   61  Every three months  Female  \n",
      "1         No     2   51  Every three months  Female  \n",
      "2         No     1   62  Every three months  Female  \n"
     ]
    }
   ],
   "source": [
    "import pandas as pd\n",
    "\n",
    "data=pd.read_csv('mcdonalds.csv')\n",
    "data = {\n",
    "    'yummy': ['No', 'Yes', 'No'],\n",
    "    'convenient': ['Yes', 'Yes', 'Yes'],\n",
    "    'spicy': ['No', 'No', 'Yes'],\n",
    "    'fattening': ['Yes', 'Yes', 'Yes'],\n",
    "    'greasy': ['No', 'Yes', 'Yes'],\n",
    "    'fast': ['Yes', 'Yes', 'Yes'],\n",
    "    'cheap': ['Yes', 'Yes', 'No'],\n",
    "    'tasty': ['No', 'Yes', 'Yes'],\n",
    "    'expensive': ['Yes', 'Yes', 'Yes'],\n",
    "    'healthy': ['No', 'No', 'Yes'],\n",
    "    'disgusting': ['No', 'No', 'No'],\n",
    "    'Like': [-3, 2, 1],\n",
    "    'Age': [61, 51, 62],\n",
    "    'VisitFrequency': ['Every three months', 'Every three months', 'Every three months'],\n",
    "    'Gender': ['Female', 'Female', 'Female']\n",
    "}\n",
    "\n",
    "# Convert to DataFrame\n",
    "mcdonalds = pd.DataFrame(data)\n",
    "\n",
    "# Display column names\n",
    "print(mcdonalds.columns)\n",
    "\n",
    "# Display dimensions\n",
    "print(mcdonalds.shape)\n",
    "\n",
    "# Display the first 3 rows\n",
    "print(mcdonalds.head(3))\n"
   ]
  },
  {
   "cell_type": "code",
   "execution_count": 2,
   "id": "07c30ab3",
   "metadata": {},
   "outputs": [
    {
     "name": "stdout",
     "output_type": "stream",
     "text": [
      "{'yummy': 0.33, 'convenient': 1.0, 'spicy': 0.33, 'fattening': 1.0, 'greasy': 0.67, 'fast': 1.0, 'cheap': 0.67, 'tasty': 0.67, 'expensive': 1.0, 'healthy': 0.33, 'disgusting': 0.0}\n"
     ]
    }
   ],
   "source": [
    "import numpy as np\n",
    "\n",
    "# Extract the first 11 columns and convert to a matrix\n",
    "MD_x = mcdonalds.iloc[:, 0:11].to_numpy()\n",
    "\n",
    "# Convert \"Yes\" to 1 and anything else to 0\n",
    "MD_x = (MD_x == \"Yes\").astype(int)\n",
    "\n",
    "# Calculate the column means and round them to 2 decimal places\n",
    "col_means = np.round(MD_x.mean(axis=0), 2)\n",
    "\n",
    "# Display the column means\n",
    "print(dict(zip(mcdonalds.columns[0:11], col_means)))\n"
   ]
  },
  {
   "cell_type": "code",
   "execution_count": 3,
   "id": "518ca22d",
   "metadata": {},
   "outputs": [
    {
     "name": "stdout",
     "output_type": "stream",
     "text": [
      "   Standard deviation  Proportion of Variance  Cumulative Proportion\n",
      "0        1.135198e+00                  0.6443                 0.6443\n",
      "1        8.434008e-01                  0.3557                 1.0000\n",
      "2        1.200248e-16                  0.0000                 1.0000\n"
     ]
    }
   ],
   "source": [
    "from sklearn.decomposition import PCA\n",
    "import numpy as np\n",
    "\n",
    "# Perform PCA on the binary matrix MD_x\n",
    "pca = PCA()\n",
    "MD_pca = pca.fit(MD_x)\n",
    "\n",
    "# Summarize the PCA result\n",
    "# Standard deviations of each principal component\n",
    "std_devs = np.sqrt(pca.explained_variance_)\n",
    "\n",
    "# Proportion of variance explained by each component\n",
    "prop_var = np.round(pca.explained_variance_ratio_, 4)\n",
    "\n",
    "# Cumulative proportion of variance explained\n",
    "cum_var = np.round(np.cumsum(prop_var), 4)\n",
    "\n",
    "# Print summary similar to R output\n",
    "summary_data = {\n",
    "    \"Standard deviation\": std_devs,\n",
    "    \"Proportion of Variance\": prop_var,\n",
    "    \"Cumulative Proportion\": cum_var\n",
    "}\n",
    "\n",
    "# Display the summary for the first few components\n",
    "pca_summary = pd.DataFrame(summary_data)\n",
    "print(pca_summary)\n"
   ]
  },
  {
   "cell_type": "code",
   "execution_count": 5,
   "id": "4386038a",
   "metadata": {},
   "outputs": [
    {
     "name": "stdout",
     "output_type": "stream",
     "text": [
      "Standard deviations (1, .., p):\n",
      "[1.1 0.8 0. ]\n",
      "\n",
      "Rotation (n x k) = (11 x 3):\n",
      "             PC1   PC2   PC3\n",
      "yummy      -0.13  0.66  0.70\n",
      "convenient -0.00 -0.00 -0.27\n",
      "spicy       0.49 -0.18  0.31\n",
      "fattening  -0.00 -0.00  0.00\n",
      "greasy      0.36  0.48 -0.35\n",
      "fast       -0.00 -0.00  0.00\n",
      "cheap      -0.49  0.18 -0.07\n",
      "tasty       0.36  0.48 -0.35\n",
      "expensive  -0.00 -0.00  0.00\n",
      "healthy     0.49 -0.18  0.31\n",
      "disgusting -0.00 -0.00  0.00\n"
     ]
    }
   ],
   "source": [
    "# Print the standard deviations (singular values)\n",
    "print(\"Standard deviations (1, .., p):\")\n",
    "print(np.round(std_devs, 1))\n",
    "\n",
    "# Adjust the number of principal components based on the actual result\n",
    "num_components = pca.components_.shape[0]\n",
    "\n",
    "# Print the rotation (loadings) matrix\n",
    "print(f\"\\nRotation (n x k) = (11 x {num_components}):\")\n",
    "components = pd.DataFrame(np.round(pca.components_.T, 2), \n",
    "                          columns=[f'PC{i+1}' for i in range(num_components)],\n",
    "                          index=mcdonalds.columns[:11])\n",
    "print(components)\n",
    "\n"
   ]
  },
  {
   "cell_type": "code",
   "execution_count": 6,
   "id": "89d34371",
   "metadata": {},
   "outputs": [
    {
     "data": {
      "image/png": "[encoded data removed]",
      "text/plain": [
       "<Figure size 640x480 with 1 Axes>"
      ]
     },
     "metadata": {},
     "output_type": "display_data"
    }
   ],
   "source": [
    "import matplotlib.pyplot as plt\n",
    "from sklearn.decomposition import PCA\n",
    "\n",
    "# Perform PCA (assuming MD_x has already been created as a binary matrix)\n",
    "pca = PCA()\n",
    "MD_pca = pca.fit_transform(MD_x)\n",
    "\n",
    "# Plot the first two principal components\n",
    "plt.scatter(MD_pca[:, 0], MD_pca[:, 1], color='grey', alpha=0.6)\n",
    "\n",
    "# Label the axes\n",
    "plt.xlabel('PC1')\n",
    "plt.ylabel('PC2')\n",
    "\n",
    "# Display the plot\n",
    "plt.title('PCA Projection')\n",
    "plt.show()\n"
   ]
  },
  {
   "cell_type": "code",
   "execution_count": 7,
   "id": "ce11b76e",
   "metadata": {},
   "outputs": [
    {
     "data": {
      "image/png": "[encoded data removed]",
      "text/plain": [
       "<Figure size 640x480 with 1 Axes>"
      ]
     },
     "metadata": {},
     "output_type": "display_data"
    }
   ],
   "source": [
    "# Get the loadings (rotation matrix)\n",
    "loadings = pca.components_.T\n",
    "\n",
    "# Plot the original PCA projection again\n",
    "plt.scatter(MD_pca[:, 0], MD_pca[:, 1], color='grey', alpha=0.6)\n",
    "\n",
    "# Add projections of the axes (the loadings)\n",
    "for i, var in enumerate(mcdonalds.columns[:11]):\n",
    "    plt.arrow(0, 0, loadings[i, 0], loadings[i, 1], \n",
    "              color='red', head_width=0.05, head_length=0.05)\n",
    "    plt.text(loadings[i, 0]*1.1, loadings[i, 1]*1.1, var, color='black')\n",
    "\n",
    "# Label the axes\n",
    "plt.xlabel('PC1')\n",
    "plt.ylabel('PC2')\n",
    "\n",
    "# Display the plot\n",
    "plt.title('PCA with Projected Axes')\n",
    "plt.grid()\n",
    "plt.show()\n"
   ]
  },
  {
   "cell_type": "code",
   "execution_count": 21,
   "id": "ab7c4f95",
   "metadata": {},
   "outputs": [],
   "source": [
    "from sklearn.cluster import KMeans\n",
    "from sklearn.metrics import adjusted_rand_score\n",
    "import numpy as np\n",
    "import matplotlib.pyplot as plt\n",
    "from scipy.cluster.hierarchy import dendrogram, linkage"
   ]
  },
  {
   "cell_type": "code",
   "execution_count": 22,
   "id": "d59e63a8",
   "metadata": {},
   "outputs": [],
   "source": [
    "# compute the pairwise distances between the columns of MD_x\n",
    "D = np.transpose(MD_x)\n",
    "D = linkage(D, method = \"average\")"
   ]
  },
  {
   "cell_type": "code",
   "execution_count": 23,
   "id": "0a49082d",
   "metadata": {},
   "outputs": [
    {
     "data": {
      "text/plain": [
       "{'icoord': [[5.0, 5.0, 15.0, 15.0],\n",
       "  [35.0, 35.0, 45.0, 45.0],\n",
       "  [25.0, 25.0, 40.0, 40.0],\n",
       "  [10.0, 10.0, 32.5, 32.5],\n",
       "  [65.0, 65.0, 75.0, 75.0],\n",
       "  [55.0, 55.0, 70.0, 70.0],\n",
       "  [95.0, 95.0, 105.0, 105.0],\n",
       "  [85.0, 85.0, 100.0, 100.0],\n",
       "  [62.5, 62.5, 92.5, 92.5],\n",
       "  [21.25, 21.25, 77.5, 77.5]],\n",
       " 'dcoord': [[0.0, 0.0, 0.0, 0.0],\n",
       "  [0.0, 0.0, 0.0, 0.0],\n",
       "  [0.0, 0.0, 0.0, 0.0],\n",
       "  [0.0, 1.0, 1.0, 0.0],\n",
       "  [0.0, 0.0, 0.0, 0.0],\n",
       "  [0.0, 1.0, 1.0, 0.0],\n",
       "  [0.0, 0.0, 0.0, 0.0],\n",
       "  [0.0, 1.0, 1.0, 0.0],\n",
       "  [1.0, 1.1840949166102643, 1.1840949166102643, 1.0],\n",
       "  [1.0, 1.3779186362859523, 1.3779186362859523, 1.1840949166102643]],\n",
       " 'ivl': ['6', '8', '5', '1', '3', '0', '4', '7', '10', '2', '9'],\n",
       " 'leaves': [6, 8, 5, 1, 3, 0, 4, 7, 10, 2, 9],\n",
       " 'color_list': ['C1', 'C2', 'C2', 'C0', 'C3', 'C0', 'C4', 'C0', 'C0', 'C0'],\n",
       " 'leaves_color_list': ['C1',\n",
       "  'C1',\n",
       "  'C2',\n",
       "  'C2',\n",
       "  'C2',\n",
       "  'C0',\n",
       "  'C3',\n",
       "  'C3',\n",
       "  'C0',\n",
       "  'C4',\n",
       "  'C4']}"
      ]
     },
     "execution_count": 23,
     "metadata": {},
     "output_type": "execute_result"
    },
    {
     "data": {
      "image/png": "[encoded data removed]",
      "text/plain": [
       "<Figure size 640x480 with 1 Axes>"
      ]
     },
     "metadata": {},
     "output_type": "display_data"
    }
   ],
   "source": [
    "# plot the dendrogram\n",
    "dendrogram(D, truncate_mode = \"lastp\", p = 12, leaf_rotation = 90,\n",
    "           leaf_font_size = 10, show_contracted = True)"
   ]
  },
  {
   "cell_type": "code",
   "execution_count": 24,
   "id": "a48751a7",
   "metadata": {},
   "outputs": [
    {
     "ename": "NameError",
     "evalue": "name 'x' is not defined",
     "output_type": "error",
     "traceback": [
      "\u001b[1;31m---------------------------------------------------------------------------\u001b[0m",
      "\u001b[1;31mNameError\u001b[0m                                 Traceback (most recent call last)",
      "Cell \u001b[1;32mIn[24], line 2\u001b[0m\n\u001b[0;32m      1\u001b[0m \u001b[38;5;66;03m# get the coordinates of the data projected onto the first two principal components\u001b[39;00m\n\u001b[1;32m----> 2\u001b[0m proj_data \u001b[38;5;241m=\u001b[39m pca\u001b[38;5;241m.\u001b[39mfit_transform(x)[:, :\u001b[38;5;241m2\u001b[39m]\n\u001b[0;32m      4\u001b[0m \u001b[38;5;66;03m# plot the scatter plot\u001b[39;00m\n\u001b[0;32m      5\u001b[0m plt\u001b[38;5;241m.\u001b[39mscatter(proj_data[:, \u001b[38;5;241m0\u001b[39m], proj_data[:, \u001b[38;5;241m1\u001b[39m], alpha\u001b[38;5;241m=\u001b[39m\u001b[38;5;241m0.7\u001b[39m)\n",
      "\u001b[1;31mNameError\u001b[0m: name 'x' is not defined"
     ]
    }
   ],
   "source": [
    "# get the coordinates of the data projected onto the first two principal components\n",
    "proj_data = pca.fit_transform(x)[:, :2]\n",
    "\n",
    "# plot the scatter plot\n",
    "plt.scatter(proj_data[:, 0], proj_data[:, 1], alpha=0.7)\n",
    "plt.xlabel(\"principal component 1\")\n",
    "plt.ylabel(\"principal component 2\")\n",
    "plt.show()"
   ]
  },
  {
   "cell_type": "code",
   "execution_count": null,
   "id": "36507c44",
   "metadata": {},
   "outputs": [],
   "source": []
  }
 ],
 "metadata": {
  "kernelspec": {
   "display_name": "Python 3 (ipykernel)",
   "language": "python",
   "name": "python3"
  },
  "language_info": {
   "codemirror_mode": {
    "name": "ipython",
    "version": 3
   },
   "file_extension": ".py",
   "mimetype": "text/x-python",
   "name": "python",
   "nbconvert_exporter": "python",
   "pygments_lexer": "ipython3",
   "version": "3.11.5"
  }
 },
 "nbformat": 4,
 "nbformat_minor": 5
}
